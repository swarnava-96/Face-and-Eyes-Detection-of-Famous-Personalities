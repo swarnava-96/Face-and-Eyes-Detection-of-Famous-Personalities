{
 "cells": [
  {
   "cell_type": "markdown",
   "id": "6fb47956",
   "metadata": {},
   "source": [
    "# Face and Eye Detection using HAAR Cascade Classifier\n",
    "The goal of this mini project is to detect face and eyes of famous personalities using HAAR Cascade Classifier.\n",
    "\n",
    "### Face Detection"
   ]
  },
  {
   "cell_type": "code",
   "execution_count": 1,
   "id": "922714cb",
   "metadata": {},
   "outputs": [],
   "source": [
    "# Importing the dependencies\n",
    "import numpy as np\n",
    "import cv2\n",
    "\n",
    "# Pointing opencv cascade classifier function to where our classifier(XML file format) is stored\n",
    "face_classifier = cv2.CascadeClassifier(\"Haarcascades/haarcascade_frontalface_default.xml\")\n",
    "\n",
    "# Loading our image and converting it into gray scale\n",
    "image = cv2.imread(\"image_examples/srk.jpg\")\n",
    "gray = cv2.cvtColor(image, cv2.COLOR_BGR2GRAY)\n",
    "\n",
    "# The classifier returns the ROI of the detected face as a tuple and stores the top left and the bottom right coordinates\n",
    "face = face_classifier.detectMultiScale(gray, 1.3, 5)\n",
    "\n",
    "# When no face detected face classifier returns the empty tuple\n",
    "if face is ():\n",
    "    print(\"No faces found!\")\n",
    "    \n",
    "# Iterating through face array and drawing a rectangle over each face\n",
    "for x, y, w, h in face:\n",
    "    cv2.rectangle(image, (x,y), (x+w, y+h), (127,0,255), 2)\n",
    "    cv2.imshow(\"Face Detection\", image)\n",
    "    cv2.waitKey(0)\n",
    "    \n",
    "cv2.destroyAllWindows()"
   ]
  },
  {
   "cell_type": "markdown",
   "id": "a37f4117",
   "metadata": {},
   "source": [
    "### Combining Face and Eye Detection"
   ]
  },
  {
   "cell_type": "code",
   "execution_count": 5,
   "id": "1f3b471e",
   "metadata": {},
   "outputs": [],
   "source": [
    "# Importing the dependencies\n",
    "import numpy as np\n",
    "import cv2\n",
    "\n",
    "# Pointing the opencv cascade classifier function to where our classifier(XML file format) is stored\n",
    "face_classifier = cv2.CascadeClassifier(\"Haarcascades/haarcascade_frontalface_default.xml\")\n",
    "eye_classifier = cv2.CascadeClassifier(\"Haarcascades/haarcascade_eye.xml\")\n",
    "\n",
    "# Loading our image and converting it into gray scale\n",
    "image = cv2.imread(\"image_examples/srk.jpg\")\n",
    "gray = cv2.cvtColor(image, cv2.COLOR_BGR2GRAY)\n",
    "\n",
    "# The classifier returns the ROI of the detected face as a tuple and stores the top left and the bottom right coordinates\n",
    "face = face_classifier.detectMultiScale(gray, 1.3, 5)\n",
    "\n",
    "# When no face is detected the classifier returns the empty tuple\n",
    "if face is ():\n",
    "    print(\"No faces found!\")\n",
    "    \n",
    "# Iterating through face,eye arrays and drawing a rectangle over each face and eye\n",
    "for (x,y,w,h) in face:\n",
    "    cv2.rectangle(image, (x,y), (x+w, y+h), (127,0,255), 2)\n",
    "    cv2.imshow(\"image\", image)\n",
    "    cv2.waitKey(0)\n",
    "    roi_gray = gray[y:y+h, x:x+w]\n",
    "    roi_color = image[y:y+h, x:x+w]\n",
    "    eye = eye_classifier.detectMultiScale(roi_gray)\n",
    "    for (ex,ey,ew,eh) in eye:\n",
    "        cv2.rectangle(roi_color, (ex,ey), (ex+ew, ey+eh), (255,255,0), 2)\n",
    "        cv2.imshow(\"image\", image)\n",
    "        cv2.waitKey(0)\n",
    "cv2.destroyAllWindows()        "
   ]
  }
 ],
 "metadata": {
  "kernelspec": {
   "display_name": "Python 3 (ipykernel)",
   "language": "python",
   "name": "python3"
  },
  "language_info": {
   "codemirror_mode": {
    "name": "ipython",
    "version": 3
   },
   "file_extension": ".py",
   "mimetype": "text/x-python",
   "name": "python",
   "nbconvert_exporter": "python",
   "pygments_lexer": "ipython3",
   "version": "3.7.11"
  }
 },
 "nbformat": 4,
 "nbformat_minor": 5
}
